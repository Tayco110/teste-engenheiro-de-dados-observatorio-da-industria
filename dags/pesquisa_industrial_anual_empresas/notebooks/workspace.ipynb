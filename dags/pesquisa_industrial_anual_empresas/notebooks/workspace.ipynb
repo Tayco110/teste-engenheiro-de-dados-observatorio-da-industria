{
 "cells": [
  {
   "cell_type": "code",
   "execution_count": 200,
   "metadata": {},
   "outputs": [],
   "source": [
    "# Para iniciar a seção spark\n",
    "from pyspark.sql import SparkSession \n",
    "\n",
    "# Para estruturar e \"tipar\" os dados\n",
    "from pyspark.sql.types import StructType, StructField, StringType, MapType, ArrayType\n",
    "from pyspark.sql.functions import col, explode\n",
    "\n",
    "# Para coleta dos dados\n",
    "import requests"
   ]
  },
  {
   "cell_type": "code",
   "execution_count": 201,
   "metadata": {},
   "outputs": [],
   "source": [
    "# url para o cojunto de dados \n",
    "url = \"https://servicodados.ibge.gov.br/api/v3/agregados/1839/periodos/2022/variaveis/630?localidades=N1[all]\""
   ]
  },
  {
   "cell_type": "markdown",
   "metadata": {},
   "source": [
    "### Criando a seção Spark"
   ]
  },
  {
   "cell_type": "code",
   "execution_count": 202,
   "metadata": {},
   "outputs": [],
   "source": [
    "# Inicia a seção do Spark\n",
    "spark = SparkSession.builder \\\n",
    "    .appName(\"DAG__pesquisa_industrial_anual_empresas\") \\\n",
    "    .getOrCreate()"
   ]
  },
  {
   "cell_type": "markdown",
   "metadata": {},
   "source": [
    "### Coletando os dados em formato json"
   ]
  },
  {
   "cell_type": "code",
   "execution_count": 203,
   "metadata": {},
   "outputs": [],
   "source": [
    "# Coleta os dados RAW com tratamento de erro\n",
    "try:\n",
    "    response = requests.get(url)\n",
    "    if response.status_code != 200:\n",
    "        raise Exception(f\"Falha na requisição. Status code: {response.status_code}\")\n",
    "    data = response.json()\n",
    "except Exception as e:\n",
    "    print(f\"Ocorreu um erro: {e}\")"
   ]
  },
  {
   "cell_type": "markdown",
   "metadata": {},
   "source": [
    "### Schema utilizado para estruturar os dados"
   ]
  },
  {
   "cell_type": "code",
   "execution_count": 204,
   "metadata": {},
   "outputs": [],
   "source": [
    "schema = StructType([\n",
    "    StructField(\"id\", StringType(), True),\n",
    "    StructField(\"variavel\", StringType(), True),\n",
    "    StructField(\"unidade\", StringType(), True),\n",
    "    StructField(\"resultados\", ArrayType(StructType([\n",
    "        StructField(\"classificacoes\", ArrayType(StructType([\n",
    "            StructField(\"id\", StringType(), True),\n",
    "            StructField(\"nome\", StringType(), True),\n",
    "            StructField(\"categoria\", MapType(StringType(), StringType()), True)\n",
    "        ])), True),\n",
    "        StructField(\"series\", ArrayType(StructType([\n",
    "            StructField(\"localidade\", StructType([\n",
    "                StructField(\"id\", StringType(), True),\n",
    "                StructField(\"nivel\", StructType([\n",
    "                    StructField(\"id\", StringType(), True),\n",
    "                    StructField(\"nome\", StringType(), True)\n",
    "                ]), True),\n",
    "                StructField(\"nome\", StringType(), True)\n",
    "            ]), True),\n",
    "            StructField(\"serie\", MapType(StringType(), StringType()), True)\n",
    "        ])), True)\n",
    "    ])), True)\n",
    "])"
   ]
  },
  {
   "cell_type": "markdown",
   "metadata": {},
   "source": [
    "### Processo de estruturação dos dados"
   ]
  },
  {
   "cell_type": "code",
   "execution_count": 205,
   "metadata": {},
   "outputs": [],
   "source": [
    "rdd = spark.sparkContext.parallelize(data)"
   ]
  },
  {
   "cell_type": "code",
   "execution_count": 206,
   "metadata": {},
   "outputs": [],
   "source": [
    "df = spark.read.json(rdd, schema)\n",
    "df = spark.createDataFrame(data, schema = schema)"
   ]
  },
  {
   "cell_type": "code",
   "execution_count": 207,
   "metadata": {},
   "outputs": [],
   "source": [
    "df = df.withColumn(\"resultados\", explode(col(\"resultados\"))) \\\n",
    "                .withColumn(\"classificacoes\", explode(col(\"resultados.classificacoes\"))) \\\n",
    "                .withColumn(\"series\", explode(col(\"resultados.series\")))"
   ]
  },
  {
   "cell_type": "code",
   "execution_count": 208,
   "metadata": {},
   "outputs": [],
   "source": [
    "df_mapped = df.select(\n",
    "    col(\"id\").alias(\"ID\"),\n",
    "    col(\"variavel\").alias(\"VARIÁVEL\"),\n",
    "    col(\"unidade\").alias(\"UNIDADE\"),\n",
    "    col(\"series.localidade.id\").alias(\"LOC_ID\"),\n",
    "    col(\"series.localidade.nome\").alias(\"LOC_NOME\"),\n",
    "    col(\"series.localidade.nivel.id\").alias(\"LOC_NIVEL_ID\"),\n",
    "    col(\"series.localidade.nivel.nome\").alias(\"LOC_NIVEL_NOME\"),\n",
    "    col(\"series.serie\").alias(\"SERIE\"),\n",
    "    col(\"classificacoes.id\").alias(\"CLSFC_ID\"),\n",
    "    col(\"classificacoes.nome\").alias(\"CLSFC_NOME\"),\n",
    "    col(\"classificacoes.categoria\").alias(\"CATEGORIA\"),\n",
    ")"
   ]
  },
  {
   "cell_type": "code",
   "execution_count": 209,
   "metadata": {},
   "outputs": [],
   "source": [
    "df_mapped = df_mapped.select(\n",
    "    \"*\", \n",
    "    explode(\"SERIE\").alias(\"SERIE_KEY\", \"SERIE_VALUE\")\n",
    ")\n",
    "\n",
    "df_mapped = df_mapped.select(\n",
    "    \"*\",\n",
    "    explode(\"CATEGORIA\").alias(\"CATEGORIA_KEY\", \"CATEGORIA_VALUE\")\n",
    ")"
   ]
  },
  {
   "cell_type": "code",
   "execution_count": 210,
   "metadata": {},
   "outputs": [],
   "source": [
    "df_finalistico = df_mapped.drop(\"SERIE\", \"CATEGORIA\")"
   ]
  },
  {
   "cell_type": "code",
   "execution_count": 211,
   "metadata": {},
   "outputs": [
    {
     "name": "stdout",
     "output_type": "stream",
     "text": [
      "+---+------------------+--------+------+--------+------------+--------------+--------+--------------------+---------+-----------+-------------+---------------+\n",
      "| ID|          VARIÁVEL| UNIDADE|LOC_ID|LOC_NOME|LOC_NIVEL_ID|LOC_NIVEL_NOME|CLSFC_ID|          CLSFC_NOME|SERIE_KEY|SERIE_VALUE|CATEGORIA_KEY|CATEGORIA_VALUE|\n",
      "+---+------------------+--------+------+--------+------------+--------------+--------+--------------------+---------+-----------+-------------+---------------+\n",
      "|630|Número de empresas|Unidades|     1|  Brasil|          N1|        Brasil|     319|Faixas de pessoal...|     2022|     346105|       104029|          Total|\n",
      "|630|Número de empresas|Unidades|     1|  Brasil|          N1|        Brasil|    9117|   Tipo de indústria|     2022|     346105|        99735|          Total|\n",
      "+---+------------------+--------+------+--------+------------+--------------+--------+--------------------+---------+-----------+-------------+---------------+\n",
      "\n"
     ]
    }
   ],
   "source": [
    "df_finalistico.show()"
   ]
  }
 ],
 "metadata": {
  "kernelspec": {
   "display_name": ".venv",
   "language": "python",
   "name": "python3"
  },
  "language_info": {
   "codemirror_mode": {
    "name": "ipython",
    "version": 3
   },
   "file_extension": ".py",
   "mimetype": "text/x-python",
   "name": "python",
   "nbconvert_exporter": "python",
   "pygments_lexer": "ipython3",
   "version": "3.10.12"
  }
 },
 "nbformat": 4,
 "nbformat_minor": 2
}
