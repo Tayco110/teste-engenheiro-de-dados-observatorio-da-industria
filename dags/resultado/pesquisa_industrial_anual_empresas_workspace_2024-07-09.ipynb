{
 "cells": [
  {
   "cell_type": "code",
   "execution_count": 1,
   "id": "55fd4cf4",
   "metadata": {
    "execution": {
     "iopub.execute_input": "2024-07-09T20:32:21.177922Z",
     "iopub.status.busy": "2024-07-09T20:32:21.177739Z",
     "iopub.status.idle": "2024-07-09T20:32:21.352977Z",
     "shell.execute_reply": "2024-07-09T20:32:21.352589Z"
    },
    "jupyter": {
     "source_hidden": true
    },
    "papermill": {
     "duration": 0.179802,
     "end_time": "2024-07-09T20:32:21.354313",
     "exception": false,
     "start_time": "2024-07-09T20:32:21.174511",
     "status": "completed"
    },
    "tags": []
   },
   "outputs": [],
   "source": [
    "# Para iniciar a seção spark\n",
    "from pyspark.sql import SparkSession \n",
    "\n",
    "# Para estruturar e \"tipar\" os dados\n",
    "from pyspark.sql.types import StructType, StructField, StringType, MapType, ArrayType\n",
    "from pyspark.sql.functions import col, explode\n",
    "\n",
    "# Para coleta dos dados\n",
    "import requests"
   ]
  },
  {
   "cell_type": "code",
   "execution_count": 2,
   "id": "0a72250a",
   "metadata": {
    "execution": {
     "iopub.execute_input": "2024-07-09T20:32:21.367699Z",
     "iopub.status.busy": "2024-07-09T20:32:21.367411Z",
     "iopub.status.idle": "2024-07-09T20:32:21.369890Z",
     "shell.execute_reply": "2024-07-09T20:32:21.369504Z"
    },
    "jupyter": {
     "source_hidden": true
    },
    "papermill": {
     "duration": 0.014481,
     "end_time": "2024-07-09T20:32:21.370753",
     "exception": false,
     "start_time": "2024-07-09T20:32:21.356272",
     "status": "completed"
    },
    "tags": []
   },
   "outputs": [],
   "source": [
    "# url para o cojunto de dados \n",
    "url = \"https://servicodados.ibge.gov.br/api/v3/agregados/1839/periodos/2022/variaveis/630?localidades=N1[all]\""
   ]
  },
  {
   "cell_type": "markdown",
   "id": "e1117781",
   "metadata": {
    "papermill": {
     "duration": 0.002208,
     "end_time": "2024-07-09T20:32:21.375258",
     "exception": false,
     "start_time": "2024-07-09T20:32:21.373050",
     "status": "completed"
    },
    "tags": []
   },
   "source": [
    "### Criando a seção Spark"
   ]
  },
  {
   "cell_type": "code",
   "execution_count": 3,
   "id": "fc9cff75",
   "metadata": {
    "execution": {
     "iopub.execute_input": "2024-07-09T20:32:21.380926Z",
     "iopub.status.busy": "2024-07-09T20:32:21.380737Z",
     "iopub.status.idle": "2024-07-09T20:32:23.703041Z",
     "shell.execute_reply": "2024-07-09T20:32:23.702455Z"
    },
    "jupyter": {
     "source_hidden": true
    },
    "papermill": {
     "duration": 2.327097,
     "end_time": "2024-07-09T20:32:23.704366",
     "exception": false,
     "start_time": "2024-07-09T20:32:21.377269",
     "status": "completed"
    },
    "tags": []
   },
   "outputs": [
    {
     "name": "stderr",
     "output_type": "stream",
     "text": [
      "/home/airflow/.local/lib/python3.11/site-packages/pyspark/bin/load-spark-env.sh: line 68: ps: command not found\n"
     ]
    },
    {
     "name": "stderr",
     "output_type": "stream",
     "text": [
      "Setting default log level to \"WARN\".\n",
      "To adjust logging level use sc.setLogLevel(newLevel). For SparkR, use setLogLevel(newLevel).\n"
     ]
    }
   ],
   "source": [
    "# Inicia a seção do Spark\n",
    "spark = SparkSession.builder \\\n",
    "    .appName(\"DAG__pesquisa_industrial_anual_empresas\") \\\n",
    "    .getOrCreate()"
   ]
  },
  {
   "cell_type": "markdown",
   "id": "ae3b067d",
   "metadata": {
    "papermill": {
     "duration": 0.010071,
     "end_time": "2024-07-09T20:32:23.716268",
     "exception": false,
     "start_time": "2024-07-09T20:32:23.706197",
     "status": "completed"
    },
    "tags": []
   },
   "source": [
    "### Coletando os dados em formato json"
   ]
  },
  {
   "cell_type": "code",
   "execution_count": 4,
   "id": "fe4a567f",
   "metadata": {
    "execution": {
     "iopub.execute_input": "2024-07-09T20:32:23.721682Z",
     "iopub.status.busy": "2024-07-09T20:32:23.721493Z",
     "iopub.status.idle": "2024-07-09T20:32:24.062774Z",
     "shell.execute_reply": "2024-07-09T20:32:24.061863Z"
    },
    "jupyter": {
     "source_hidden": true
    },
    "papermill": {
     "duration": 0.346833,
     "end_time": "2024-07-09T20:32:24.064994",
     "exception": false,
     "start_time": "2024-07-09T20:32:23.718161",
     "status": "completed"
    },
    "tags": []
   },
   "outputs": [],
   "source": [
    "# Coleta os dados RAW com tratamento de erro\n",
    "try:\n",
    "    response = requests.get(url)\n",
    "    if response.status_code != 200:\n",
    "        raise Exception(f\"Falha na requisição. Status code: {response.status_code}\")\n",
    "    data = response.json()\n",
    "except Exception as e:\n",
    "    print(f\"Ocorreu um erro: {e}\")"
   ]
  },
  {
   "cell_type": "markdown",
   "id": "338029d7",
   "metadata": {
    "papermill": {
     "duration": 0.003465,
     "end_time": "2024-07-09T20:32:24.072067",
     "exception": false,
     "start_time": "2024-07-09T20:32:24.068602",
     "status": "completed"
    },
    "tags": []
   },
   "source": [
    "### Schema utilizado para estruturar os dados"
   ]
  },
  {
   "cell_type": "code",
   "execution_count": 5,
   "id": "7c11d827",
   "metadata": {
    "execution": {
     "iopub.execute_input": "2024-07-09T20:32:24.080619Z",
     "iopub.status.busy": "2024-07-09T20:32:24.080378Z",
     "iopub.status.idle": "2024-07-09T20:32:24.085195Z",
     "shell.execute_reply": "2024-07-09T20:32:24.084644Z"
    },
    "jupyter": {
     "source_hidden": true
    },
    "papermill": {
     "duration": 0.01082,
     "end_time": "2024-07-09T20:32:24.086702",
     "exception": false,
     "start_time": "2024-07-09T20:32:24.075882",
     "status": "completed"
    },
    "tags": []
   },
   "outputs": [],
   "source": [
    "schema = StructType([\n",
    "    StructField(\"id\", StringType(), True),\n",
    "    StructField(\"variavel\", StringType(), True),\n",
    "    StructField(\"unidade\", StringType(), True),\n",
    "    StructField(\"resultados\", ArrayType(StructType([\n",
    "        StructField(\"classificacoes\", ArrayType(StructType([\n",
    "            StructField(\"id\", StringType(), True),\n",
    "            StructField(\"nome\", StringType(), True),\n",
    "            StructField(\"categoria\", MapType(StringType(), StringType()), True)\n",
    "        ])), True),\n",
    "        StructField(\"series\", ArrayType(StructType([\n",
    "            StructField(\"localidade\", StructType([\n",
    "                StructField(\"id\", StringType(), True),\n",
    "                StructField(\"nivel\", StructType([\n",
    "                    StructField(\"id\", StringType(), True),\n",
    "                    StructField(\"nome\", StringType(), True)\n",
    "                ]), True),\n",
    "                StructField(\"nome\", StringType(), True)\n",
    "            ]), True),\n",
    "            StructField(\"serie\", MapType(StringType(), StringType()), True)\n",
    "        ])), True)\n",
    "    ])), True)\n",
    "])"
   ]
  },
  {
   "cell_type": "markdown",
   "id": "05e74e24",
   "metadata": {
    "papermill": {
     "duration": 0.003435,
     "end_time": "2024-07-09T20:32:24.093691",
     "exception": false,
     "start_time": "2024-07-09T20:32:24.090256",
     "status": "completed"
    },
    "tags": []
   },
   "source": [
    "### Processo de estruturação dos dados"
   ]
  },
  {
   "cell_type": "code",
   "execution_count": 6,
   "id": "69a0b156",
   "metadata": {
    "execution": {
     "iopub.execute_input": "2024-07-09T20:32:24.101863Z",
     "iopub.status.busy": "2024-07-09T20:32:24.101543Z",
     "iopub.status.idle": "2024-07-09T20:32:24.329661Z",
     "shell.execute_reply": "2024-07-09T20:32:24.328763Z"
    },
    "jupyter": {
     "source_hidden": true
    },
    "papermill": {
     "duration": 0.234422,
     "end_time": "2024-07-09T20:32:24.331558",
     "exception": false,
     "start_time": "2024-07-09T20:32:24.097136",
     "status": "completed"
    },
    "tags": []
   },
   "outputs": [],
   "source": [
    "rdd = spark.sparkContext.parallelize(data)"
   ]
  },
  {
   "cell_type": "code",
   "execution_count": 7,
   "id": "5476218d",
   "metadata": {
    "execution": {
     "iopub.execute_input": "2024-07-09T20:32:24.340861Z",
     "iopub.status.busy": "2024-07-09T20:32:24.340575Z",
     "iopub.status.idle": "2024-07-09T20:32:26.800940Z",
     "shell.execute_reply": "2024-07-09T20:32:26.800468Z"
    },
    "jupyter": {
     "source_hidden": true
    },
    "papermill": {
     "duration": 2.467999,
     "end_time": "2024-07-09T20:32:26.802456",
     "exception": false,
     "start_time": "2024-07-09T20:32:24.334457",
     "status": "completed"
    },
    "tags": []
   },
   "outputs": [],
   "source": [
    "df = spark.read.json(rdd, schema)\n",
    "df = spark.createDataFrame(data, schema = schema)"
   ]
  },
  {
   "cell_type": "code",
   "execution_count": 8,
   "id": "af50f289",
   "metadata": {
    "execution": {
     "iopub.execute_input": "2024-07-09T20:32:26.815948Z",
     "iopub.status.busy": "2024-07-09T20:32:26.815630Z",
     "iopub.status.idle": "2024-07-09T20:32:26.915776Z",
     "shell.execute_reply": "2024-07-09T20:32:26.914985Z"
    },
    "jupyter": {
     "source_hidden": true
    },
    "papermill": {
     "duration": 0.112474,
     "end_time": "2024-07-09T20:32:26.916958",
     "exception": false,
     "start_time": "2024-07-09T20:32:26.804484",
     "status": "completed"
    },
    "tags": []
   },
   "outputs": [],
   "source": [
    "df = df.withColumn(\"resultados\", explode(col(\"resultados\"))) \\\n",
    "                .withColumn(\"classificacoes\", explode(col(\"resultados.classificacoes\"))) \\\n",
    "                .withColumn(\"series\", explode(col(\"resultados.series\")))"
   ]
  },
  {
   "cell_type": "code",
   "execution_count": 9,
   "id": "160fd7c1",
   "metadata": {
    "execution": {
     "iopub.execute_input": "2024-07-09T20:32:26.922003Z",
     "iopub.status.busy": "2024-07-09T20:32:26.921815Z",
     "iopub.status.idle": "2024-07-09T20:32:26.956562Z",
     "shell.execute_reply": "2024-07-09T20:32:26.956162Z"
    },
    "jupyter": {
     "source_hidden": true
    },
    "papermill": {
     "duration": 0.038842,
     "end_time": "2024-07-09T20:32:26.958026",
     "exception": false,
     "start_time": "2024-07-09T20:32:26.919184",
     "status": "completed"
    },
    "tags": []
   },
   "outputs": [],
   "source": [
    "df_mapped = df.select(\n",
    "    col(\"id\").alias(\"ID\"),\n",
    "    col(\"variavel\").alias(\"VARIÁVEL\"),\n",
    "    col(\"unidade\").alias(\"UNIDADE\"),\n",
    "    col(\"series.localidade.id\").alias(\"LOC_ID\"),\n",
    "    col(\"series.localidade.nome\").alias(\"LOC_NOME\"),\n",
    "    col(\"series.localidade.nivel.id\").alias(\"LOC_NIVEL_ID\"),\n",
    "    col(\"series.localidade.nivel.nome\").alias(\"LOC_NIVEL_NOME\"),\n",
    "    col(\"series.serie\").alias(\"SERIE\"),\n",
    "    col(\"classificacoes.id\").alias(\"CLSFC_ID\"),\n",
    "    col(\"classificacoes.nome\").alias(\"CLSFC_NOME\"),\n",
    "    col(\"classificacoes.categoria\").alias(\"CATEGORIA\"),\n",
    ")"
   ]
  },
  {
   "cell_type": "code",
   "execution_count": 10,
   "id": "4170a485",
   "metadata": {
    "execution": {
     "iopub.execute_input": "2024-07-09T20:32:26.963617Z",
     "iopub.status.busy": "2024-07-09T20:32:26.963447Z",
     "iopub.status.idle": "2024-07-09T20:32:27.002516Z",
     "shell.execute_reply": "2024-07-09T20:32:27.001912Z"
    },
    "jupyter": {
     "source_hidden": true
    },
    "papermill": {
     "duration": 0.043301,
     "end_time": "2024-07-09T20:32:27.003861",
     "exception": false,
     "start_time": "2024-07-09T20:32:26.960560",
     "status": "completed"
    },
    "tags": []
   },
   "outputs": [],
   "source": [
    "df_mapped = df_mapped.select(\n",
    "    \"*\", \n",
    "    explode(\"SERIE\").alias(\"SERIE_KEY\", \"SERIE_VALUE\")\n",
    ")\n",
    "\n",
    "df_mapped = df_mapped.select(\n",
    "    \"*\",\n",
    "    explode(\"CATEGORIA\").alias(\"CATEGORIA_KEY\", \"CATEGORIA_VALUE\")\n",
    ")"
   ]
  },
  {
   "cell_type": "code",
   "execution_count": 11,
   "id": "f164da82",
   "metadata": {
    "execution": {
     "iopub.execute_input": "2024-07-09T20:32:27.009570Z",
     "iopub.status.busy": "2024-07-09T20:32:27.009288Z",
     "iopub.status.idle": "2024-07-09T20:32:27.022333Z",
     "shell.execute_reply": "2024-07-09T20:32:27.021906Z"
    },
    "jupyter": {
     "source_hidden": true
    },
    "papermill": {
     "duration": 0.017409,
     "end_time": "2024-07-09T20:32:27.023475",
     "exception": false,
     "start_time": "2024-07-09T20:32:27.006066",
     "status": "completed"
    },
    "tags": []
   },
   "outputs": [],
   "source": [
    "df_finalistico = df_mapped.drop(\"SERIE\", \"CATEGORIA\")"
   ]
  },
  {
   "cell_type": "code",
   "execution_count": 12,
   "id": "7a60ced7",
   "metadata": {
    "execution": {
     "iopub.execute_input": "2024-07-09T20:32:27.029743Z",
     "iopub.status.busy": "2024-07-09T20:32:27.029408Z",
     "iopub.status.idle": "2024-07-09T20:32:29.013901Z",
     "shell.execute_reply": "2024-07-09T20:32:29.013283Z"
    },
    "jupyter": {
     "source_hidden": true
    },
    "papermill": {
     "duration": 1.988967,
     "end_time": "2024-07-09T20:32:29.015200",
     "exception": false,
     "start_time": "2024-07-09T20:32:27.026233",
     "status": "completed"
    },
    "tags": []
   },
   "outputs": [
    {
     "name": "stderr",
     "output_type": "stream",
     "text": [
      "\r",
      "[Stage 0:>                                                          (0 + 1) / 1]\r"
     ]
    },
    {
     "name": "stderr",
     "output_type": "stream",
     "text": [
      "\r",
      "                                                                                \r"
     ]
    },
    {
     "name": "stdout",
     "output_type": "stream",
     "text": [
      "+---+------------------+--------+------+--------+------------+--------------+--------+--------------------+---------+-----------+-------------+---------------+\n",
      "| ID|          VARIÁVEL| UNIDADE|LOC_ID|LOC_NOME|LOC_NIVEL_ID|LOC_NIVEL_NOME|CLSFC_ID|          CLSFC_NOME|SERIE_KEY|SERIE_VALUE|CATEGORIA_KEY|CATEGORIA_VALUE|\n",
      "+---+------------------+--------+------+--------+------------+--------------+--------+--------------------+---------+-----------+-------------+---------------+\n",
      "|630|Número de empresas|Unidades|     1|  Brasil|          N1|        Brasil|     319|Faixas de pessoal...|     2022|     346105|       104029|          Total|\n",
      "|630|Número de empresas|Unidades|     1|  Brasil|          N1|        Brasil|    9117|   Tipo de indústria|     2022|     346105|        99735|          Total|\n",
      "+---+------------------+--------+------+--------+------------+--------------+--------+--------------------+---------+-----------+-------------+---------------+\n",
      "\n"
     ]
    }
   ],
   "source": [
    "df_finalistico.show()"
   ]
  }
 ],
 "metadata": {
  "kernelspec": {
   "display_name": ".venv",
   "language": "python",
   "name": "python3"
  },
  "language_info": {
   "codemirror_mode": {
    "name": "ipython",
    "version": 3
   },
   "file_extension": ".py",
   "mimetype": "text/x-python",
   "name": "python",
   "nbconvert_exporter": "python",
   "pygments_lexer": "ipython3",
   "version": "3.11.8"
  },
  "papermill": {
   "default_parameters": {},
   "duration": 11.557236,
   "end_time": "2024-07-09T20:32:31.633449",
   "environment_variables": {},
   "exception": null,
   "input_path": "/opt/airflow/dags/pesquisa_industrial_anual_empresas/notebooks/workspace.ipynb",
   "output_path": "/opt/airflow/dags/resultado/pesquisa_industrial_anual_empresas_workspace_2024-07-09.ipynb",
   "parameters": {},
   "start_time": "2024-07-09T20:32:20.076213",
   "version": "2.6.0"
  }
 },
 "nbformat": 4,
 "nbformat_minor": 5
}